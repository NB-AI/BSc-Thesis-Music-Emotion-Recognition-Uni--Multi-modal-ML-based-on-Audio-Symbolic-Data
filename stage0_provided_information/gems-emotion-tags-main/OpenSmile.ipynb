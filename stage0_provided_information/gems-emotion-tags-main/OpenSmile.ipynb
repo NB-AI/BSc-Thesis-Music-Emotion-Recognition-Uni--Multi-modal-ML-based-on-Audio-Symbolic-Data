{
 "cells": [
  {
   "cell_type": "markdown",
   "metadata": {},
   "source": [
    "# FEATURE EXTRACTION"
   ]
  },
  {
   "cell_type": "markdown",
   "metadata": {},
   "source": [
    "# OpenSMILE\n",
    "\n",
    "OpenSMILE (Speech and Music Interpretation by Large-space Extraction) is an open-source feature extraction tool that enables to extract large audio feature spaces in real time. It combines features from Music Information Retrieval and Speech Processing. OpenSMILE official documentation: \n",
    "\n",
    "https://audeering.github.io/opensmile/index.html\n",
    "\n",
    "A theoretical description of the implemented algorithms can be found in Florian Eyben’s doctoral thesis entitled “Real-time Speech and Music Classification by Large Audio Feature Space Extraction” (2015). "
   ]
  },
  {
   "cell_type": "markdown",
   "metadata": {},
   "source": [
    "## Install and Import OpenSMILE Python implementation\n",
    "\n",
    "The official documentation can be accessed here: https://audeering.github.io/opensmile-python/index.html\n",
    "\n",
    "For updates/contribution, refer to the official github repository: https://github.com/audeering/opensmile-python  "
   ]
  },
  {
   "cell_type": "code",
   "execution_count": null,
   "metadata": {},
   "outputs": [],
   "source": [
    "# Installing opensmile via pip\n",
    "#!pip install opensmile"
   ]
  },
  {
   "cell_type": "code",
   "execution_count": null,
   "metadata": {},
   "outputs": [],
   "source": [
    "# update required packages if needed\n",
    "#!pip install --upgrade pyyaml"
   ]
  },
  {
   "cell_type": "code",
   "execution_count": null,
   "metadata": {
    "scrolled": true
   },
   "outputs": [],
   "source": [
    "import opensmile\n",
    "import os\n",
    "from pydub import AudioSegment\n",
    "import glob\n",
    "from tqdm.notebook import tqdm\n",
    "import pandas as pd"
   ]
  },
  {
   "cell_type": "code",
   "execution_count": null,
   "metadata": {},
   "outputs": [],
   "source": [
    "!jupyter nbextension enable --py widgetsnbextension"
   ]
  },
  {
   "cell_type": "code",
   "execution_count": null,
   "metadata": {},
   "outputs": [],
   "source": [
    "my_dir = os.getcwd()   \n",
    "if not os.path.exists(my_dir + '/wav'):\n",
    "    os.mkdir(my_dir + '/wav')\n",
    "\n",
    "GEMS  = my_dir + '/mp3/'\n",
    "data  = my_dir + '/wav/'"
   ]
  },
  {
   "cell_type": "markdown",
   "metadata": {},
   "source": [
    "### Conversion from mp3 to wav"
   ]
  },
  {
   "cell_type": "code",
   "execution_count": null,
   "metadata": {},
   "outputs": [],
   "source": [
    "for file in tqdm(glob.glob(os.path.join(GEMS, '*.mp3'))):\n",
    "    file_name  = os.path.basename(file[0:-4])\n",
    "    output = file_name + \".wav\"                                                           \n",
    "    sound = AudioSegment.from_mp3(file)\n",
    "    sound.export(data + output, format=\"wav\")"
   ]
  },
  {
   "cell_type": "markdown",
   "metadata": {},
   "source": [
    "### Extracting eGeMAPS LLDs from several audio files"
   ]
  },
  {
   "cell_type": "code",
   "execution_count": null,
   "metadata": {
    "scrolled": true
   },
   "outputs": [],
   "source": [
    "# Define feature extractor to get LLDs from the eGeMAPS (v02) feature set\n",
    "smile_LLDs = opensmile.Smile(\n",
    "    feature_set=opensmile.FeatureSet.eGeMAPSv02,\n",
    "    feature_level=opensmile.FeatureLevel.LowLevelDescriptors,\n",
    ")\n",
    "#smile_LLDs.feature_names\n",
    "\n",
    "# Create a folder to save the results\n",
    "if not os.path.exists(my_dir + '/RESULTS'):\n",
    "    os.mkdir(my_dir + '/RESULTS')\n",
    "if not os.path.exists(my_dir + '/RESULTS/LLD'):\n",
    "    os.mkdir(my_dir + '/RESULTS/LLD')\n",
    "if not os.path.exists(my_dir + '/RESULTS/LLD/eGeMAPS'):\n",
    "    os.mkdir(my_dir + '/RESULTS/LLD/eGeMAPS')\n",
    "\n",
    "# Extract the features\n",
    "for file in tqdm(glob.glob(os.path.join(data, '*.wav'))):\n",
    "    file_name  = os.path.basename(file[0:-4])\n",
    "    LLDs = smile_LLDs.process_file(file)\n",
    "    # Create csv file\n",
    "    csv_name = my_dir + '/RESULTS/LLD/eGeMAPS/' + file_name + '.csv'\n",
    "    LLDs.to_csv(csv_name, index=False)  # remember to drop the index  "
   ]
  },
  {
   "cell_type": "markdown",
   "metadata": {},
   "source": [
    "### Extracting eGeMAPS functionals from several audio files"
   ]
  },
  {
   "cell_type": "code",
   "execution_count": null,
   "metadata": {},
   "outputs": [],
   "source": [
    "# Define feature extractor to get functionals from the eGeMAPS (v02) feature set\n",
    "smile_func = opensmile.Smile(\n",
    "    feature_set=opensmile.FeatureSet.eGeMAPSv02,\n",
    "    feature_level=opensmile.FeatureLevel.Functionals,\n",
    ")\n",
    "#smile_func.feature_names\n",
    "\n",
    "# get list of paths for all the files\n",
    "all_files = glob.glob(os.path.join(data, '*.wav'))\n",
    "\n",
    "# extract functionals for all the files in a dataframe\n",
    "functionals = smile_func.process_files(all_files)\n",
    "\n",
    "# clean up the index\n",
    "functionals.reset_index(inplace=True)\n",
    "functionals['file'] = functionals['file'].apply(os.path.basename)\n",
    "try:\n",
    "    del functionals['start']\n",
    "    del functionals['end']\n",
    "except:\n",
    "    pass\n",
    "functionals.set_index(['file'], inplace=True)\n",
    "\n",
    "#save data frame to csv\n",
    "functionals.to_csv(my_dir + '/RESULTS/functionals_eGeMAPS.csv')  # now we keep the index since we will need the file name as we have more than one "
   ]
  },
  {
   "cell_type": "markdown",
   "metadata": {},
   "source": [
    "### Extracting emobase LLDs from several audio files"
   ]
  },
  {
   "cell_type": "code",
   "execution_count": null,
   "metadata": {
    "scrolled": true
   },
   "outputs": [],
   "source": [
    "# Define feature extractor to get LLDs from the eGeMAPS (v02) feature set\n",
    "smile_LLDs = opensmile.Smile(\n",
    "    feature_set=opensmile.FeatureSet.emobase,\n",
    "    feature_level=opensmile.FeatureLevel.LowLevelDescriptors,\n",
    ")\n",
    "#smile_LLDs.feature_names\n",
    "\n",
    "# Create a folder to save the results\n",
    "if not os.path.exists(my_dir + '/RESULTS/LLD/emobase'):\n",
    "    os.mkdir(my_dir + '/RESULTS/LLD/emobase')\n",
    "\n",
    "# Extract the features\n",
    "for file in tqdm(glob.glob(os.path.join(data, '*.wav'))):\n",
    "    file_name  = os.path.basename(file[0:-4])\n",
    "    LLDs = smile_LLDs.process_file(file)\n",
    "    # Create csv file\n",
    "    csv_name = my_dir + '/RESULTS/LLD/emobase/' + file_name + '.csv'\n",
    "    LLDs.to_csv(csv_name, index=False)  # remember to drop the index  "
   ]
  },
  {
   "cell_type": "markdown",
   "metadata": {},
   "source": [
    "### Extracting emobase functionals from several audio files"
   ]
  },
  {
   "cell_type": "code",
   "execution_count": null,
   "metadata": {},
   "outputs": [],
   "source": [
    "# Define feature extractor to get functionals from the eGeMAPS (v02) feature set\n",
    "smile_func = opensmile.Smile(\n",
    "    feature_set=opensmile.FeatureSet.emobase,\n",
    "    feature_level=opensmile.FeatureLevel.Functionals,\n",
    ")\n",
    "#smile_func.feature_names\n",
    "\n",
    "# get list of paths for all the files\n",
    "all_files = glob.glob(os.path.join(data, '*.wav'))\n",
    "\n",
    "# extract functionals for all the files in a dataframe\n",
    "functionals = smile_func.process_files(all_files)\n",
    "\n",
    "# clean up the index\n",
    "functionals.reset_index(inplace=True)\n",
    "functionals['file'] = functionals['file'].apply(os.path.basename)\n",
    "try:\n",
    "    del functionals['start']\n",
    "    del functionals['end']\n",
    "except:\n",
    "    pass\n",
    "functionals.set_index(['file'], inplace=True)\n",
    "\n",
    "#save data frame to csv\n",
    "functionals.to_csv(my_dir + '/RESULTS/functionals_emobase.csv')  # now we keep the index since we will need the file name as we have more than one "
   ]
  },
  {
   "cell_type": "markdown",
   "metadata": {},
   "source": [
    "### Extracting ComParE LLDs from several audio files"
   ]
  },
  {
   "cell_type": "code",
   "execution_count": null,
   "metadata": {
    "scrolled": true
   },
   "outputs": [],
   "source": [
    "# Define feature extractor to get LLDs from the ComParE feature set\n",
    "smile_LLDs = opensmile.Smile(\n",
    "    feature_set=opensmile.FeatureSet.ComParE_2016,\n",
    "    feature_level=opensmile.FeatureLevel.LowLevelDescriptors,\n",
    ")\n",
    "#smile_LLDs.feature_names\n",
    "\n",
    "# Create a folder to save the results\n",
    "if not os.path.exists(my_dir + '/RESULTS/LLD/compare'):\n",
    "    os.mkdir(my_dir + '/RESULTS/LLD/compare')\n",
    "\n",
    "# Extract the features\n",
    "for file in glob.glob(os.path.join(data, '*.wav')):\n",
    "    file_name  = os.path.basename(file[0:-4])\n",
    "    LLDs = smile_LLDs.process_file(file)\n",
    "    # Create csv file\n",
    "    csv_name = my_dir + '/RESULTS/LLD/compare/' + file_name + '.csv'\n",
    "    LLDs.to_csv(csv_name, index=False)  # remember to drop the index  "
   ]
  },
  {
   "cell_type": "markdown",
   "metadata": {},
   "source": [
    "### Extracting ComParE functionals from several audio files"
   ]
  },
  {
   "cell_type": "code",
   "execution_count": null,
   "metadata": {},
   "outputs": [],
   "source": [
    "# Define feature extractor to get functionals from the ComParE feature set\n",
    "smile_func = opensmile.Smile(\n",
    "    feature_set=opensmile.FeatureSet.ComParE_2016,\n",
    "    feature_level=opensmile.FeatureLevel.Functionals,\n",
    ")\n",
    "#smile_func.feature_names\n",
    "\n",
    "# get list of paths for all the files\n",
    "all_files = glob.glob(os.path.join(data, '*.wav'))\n",
    "\n",
    "# extract functionals for all the files in a dataframe\n",
    "functionals = smile_func.process_files(all_files)\n",
    "\n",
    "# clean up the index\n",
    "functionals.reset_index(inplace=True)\n",
    "functionals['file'] = functionals['file'].apply(os.path.basename)\n",
    "try:\n",
    "    del functionals['start']\n",
    "    del functionals['end']\n",
    "except:\n",
    "    pass\n",
    "functionals.set_index(['file'], inplace=True)\n",
    "\n",
    "#save data frame to csv\n",
    "functionals.to_csv(my_dir + '/RESULTS/functionals_compare.csv')  # now we keep the index since we will need the file name as we have more than one "
   ]
  },
  {
   "cell_type": "code",
   "execution_count": null,
   "metadata": {},
   "outputs": [],
   "source": []
  }
 ],
 "metadata": {
  "kernelspec": {
   "display_name": "Python 3",
   "language": "python",
   "name": "python3"
  },
  "language_info": {
   "codemirror_mode": {
    "name": "ipython",
    "version": 3
   },
   "file_extension": ".py",
   "mimetype": "text/x-python",
   "name": "python",
   "nbconvert_exporter": "python",
   "pygments_lexer": "ipython3",
   "version": "3.7.3"
  }
 },
 "nbformat": 4,
 "nbformat_minor": 4
}
