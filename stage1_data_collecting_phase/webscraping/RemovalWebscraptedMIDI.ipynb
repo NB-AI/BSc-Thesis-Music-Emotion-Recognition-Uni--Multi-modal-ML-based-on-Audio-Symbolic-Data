{
 "cells": [
  {
   "cell_type": "markdown",
   "metadata": {},
   "source": [
    "**This notebook is used on the webscraped data collected by the notebook webScraper_MIDI.ipynb. Therefore, the MIDI folder architecture needs to be like:**<br>\n",
    "midi-files<br>\n",
    "folder with MP3-Code as name <br>\n",
    "full | demo <br>\n",
    "collected midi files for the relating song<br>\n",
    "\n",
    "Notebook\n",
    "Removal of\n",
    "- all demo files which aren't needed because we also have a full file\n",
    "- mvt (for movement in a classic music piece) files with several mvt files, only keep files of mvt==1 then\n",
    "- folders named 'full' but with keeping the content (simple architecture design question)\n",
    "\n",
    "User has option to listen into relating youtube tracks to check for the quality of a MIDI file. There is the option to delete it."
   ]
  },
  {
   "cell_type": "code",
   "execution_count": 150,
   "metadata": {},
   "outputs": [],
   "source": [
    "import glob\n",
    "import pandas as pd\n",
    "import numpy as np\n",
    "import shutil \n",
    "import os\n",
    "import magic \n",
    "import webbrowser\n",
    "import time"
   ]
  },
  {
   "cell_type": "code",
   "execution_count": 136,
   "metadata": {},
   "outputs": [],
   "source": [
    "# !pip install python-magic==0.4.27"
   ]
  },
  {
   "cell_type": "code",
   "execution_count": 137,
   "metadata": {},
   "outputs": [
    {
     "name": "stdout",
     "output_type": "stream",
     "text": [
      "For \n",
      "glob \n",
      "python version needs to fit \n",
      "-> original version 3.7.3 \n",
      "-> your version 3.7.3 (default, Mar 27 2019, 22:11:17) \n",
      "[GCC 7.3.0]\n",
      "\n",
      "\n",
      "Your version identical with original version \n",
      "-> pandas \n",
      "-> 1.3.5\n",
      "\n",
      "\n",
      "Your version identical with original version \n",
      "-> numpy \n",
      "-> 1.21.6\n",
      "\n",
      "\n",
      "Possibly different versions: \n",
      "-> shutil \n",
      "-> original version 1.0.0 \n",
      "-> your version  is not clearly visible. Go to your used python folder path .../python3.7/site-packages to investigate the version of your package. Also possible: have a look at the shell commands \"pip show module_name\" and \"apt show module_name\"\n",
      "\n",
      "\n",
      "For \n",
      "os \n",
      "python version needs to fit \n",
      "-> original version 3.7.3 \n",
      "-> your version 3.7.3 (default, Mar 27 2019, 22:11:17) \n",
      "[GCC 7.3.0]\n",
      "\n",
      "\n",
      "Possibly different versions: \n",
      "-> magic \n",
      "-> original version 0.4.27 \n",
      "-> your version <function version at 0x7f79afc08c80>\n",
      "\n",
      "\n",
      "For \n",
      "webbrowser \n",
      "python version needs to fit \n",
      "-> original version 3.7.3 \n",
      "-> your version 3.7.3 (default, Mar 27 2019, 22:11:17) \n",
      "[GCC 7.3.0]\n",
      "\n",
      "\n",
      "Possibly different versions: \n",
      "-> time \n",
      "-> original version 3.1.2 \n",
      "-> your version  is not clearly visible. Go to your used python folder path .../python3.7/site-packages to investigate the version of your package. Also possible: have a look at the shell commands \"pip show module_name\" and \"apt show module_name\"\n",
      "\n",
      "\n",
      "Your version identical with original version \n",
      "-> sys \n",
      "-> 3.7.3\n",
      "\n",
      "\n"
     ]
    }
   ],
   "source": [
    "import sys\n",
    "sys.path.insert(0, '../../stage-1/overall_used_tools')\n",
    "import requirements_check as rc\n",
    "\n",
    "rc.check(sys, [glob, pd, np, shutil, os, magic, webbrowser, time])"
   ]
  },
  {
   "cell_type": "markdown",
   "metadata": {},
   "source": [
    "### Having a look if there are also demo files:"
   ]
  },
  {
   "cell_type": "code",
   "execution_count": 151,
   "metadata": {},
   "outputs": [],
   "source": [
    "path = 'midi-files/'\n",
    "demo_path = path+'*/demo/'"
   ]
  },
  {
   "cell_type": "code",
   "execution_count": 139,
   "metadata": {},
   "outputs": [
    {
     "data": {
      "text/plain": [
       "array([], dtype=float64)"
      ]
     },
     "execution_count": 139,
     "metadata": {},
     "output_type": "execute_result"
    }
   ],
   "source": [
    "filenames = glob.glob(demo_path + \"*.mid\")\n",
    "filenames2 = glob.glob(demo_path + \"*.MID\")\n",
    "all_demo_midi = filenames + filenames2\n",
    "all_demo_midi = np.array(all_demo_midi)\n",
    "all_demo_midi"
   ]
  },
  {
   "cell_type": "markdown",
   "metadata": {},
   "source": [
    "Are there besides the demo files also full versions?:"
   ]
  },
  {
   "cell_type": "code",
   "execution_count": 140,
   "metadata": {},
   "outputs": [],
   "source": [
    "full_midi_codes = []\n",
    "mp3_demo_codes = []\n",
    "for file in all_demo_midi:\n",
    "    \n",
    "    file2_parts = file.split('/')\n",
    "    mp3_code_demo = file2_parts[1]\n",
    "    mp3_demo_codes.append(mp3_code_demo)\n",
    "    \n",
    "    full_path = file2_parts[0] + '/'+ file2_parts[1] + '/full/'\n",
    "    full_file1 = glob.glob(full_path + '*mid')\n",
    "    full_file2 = glob.glob(full_path + '*MID')    \n",
    "    full_version_files = full_file1 + full_file2\n",
    "    if full_version_files != []:\n",
    "        mp3_code = full_version_files[0].split('/')[0]\n",
    "        full_midi_codes.append(mp3_code)\n"
   ]
  },
  {
   "cell_type": "markdown",
   "metadata": {},
   "source": [
    "Keeping only the songs for which we have a demo file and remove all other demo folders for which the samples have a full version:"
   ]
  },
  {
   "cell_type": "code",
   "execution_count": 141,
   "metadata": {},
   "outputs": [],
   "source": [
    "demo_keeping = set(mp3_demo_codes) - set(full_midi_codes)\n",
    "all_mp3 = glob.glob(path + '*') \n",
    "\n",
    "demo_mp3_delete = set(all_mp3) - demo_keeping\n",
    "#demo_mp3_delete.remove('cleaner.ipynb')"
   ]
  },
  {
   "cell_type": "code",
   "execution_count": 142,
   "metadata": {},
   "outputs": [],
   "source": [
    "for i in demo_mp3_delete:\n",
    "    delete_path = i + '/demo'\n",
    "    try:\n",
    "        shutil.rmtree(delete_path) # remove not only folder but also all content in the folder\n",
    "    except:\n",
    "        pass"
   ]
  },
  {
   "cell_type": "markdown",
   "metadata": {},
   "source": [
    "### Removing file types which are marked as midi but have 0 byte. Also remove unneeded text files:\n",
    "Through small renaming bug during downloading already existing text files were accidently renamed to '.mid'."
   ]
  },
  {
   "cell_type": "code",
   "execution_count": 143,
   "metadata": {},
   "outputs": [],
   "source": [
    "all_files = glob.glob(path + '*/*/*.mid')\n",
    "for single_file in all_files:\n",
    "    true_file_type = magic.from_file(single_file)\n",
    "    if true_file_type == 'empty': # the file is 0 bytes big\n",
    "        os.remove(single_file)\n",
    "        \n",
    "all_txt_files = all_files = glob.glob(path + '*/*/webpageinfo.txt')\n",
    "for single_txt in all_txt_files:\n",
    "        os.remove(single_txt)\n"
   ]
  },
  {
   "cell_type": "markdown",
   "metadata": {},
   "source": [
    "### Next, delete all movements of synphnys in which folders are several movents (!) and the movement is not One:"
   ]
  },
  {
   "cell_type": "code",
   "execution_count": 144,
   "metadata": {
    "scrolled": false
   },
   "outputs": [],
   "source": [
    "mvt_files1 = glob.glob(path + '*/*/*mvt*.mid')\n",
    "mvt_files2 = glob.glob(path + '*/*/*MVT*.mid')\n",
    "mvt_files3 = glob.glob(path + '*/*/*Mvt*.mid')\n",
    "mvt_files = mvt_files1 + mvt_files2 + mvt_files3\n",
    "\n",
    "# Check if the file is the only file in a certain directory:\n",
    "for mvt_file in mvt_files:\n",
    "    mvt_file_part = mvt_file.split('/')\n",
    "    mvt_file_path = mvt_file_part[0] +  '/' +  mvt_file_part[1]+  '/' +  mvt_file_part[2]\n",
    "    mvt_contained1 = glob.glob(mvt_file_path + '/*mvt*.mid')\n",
    "    mvt_contained2 = glob.glob(mvt_file_path + '/*MVT*.mid')\n",
    "    mvt_contained3 = glob.glob(mvt_file_path + '/*Mvt*.mid')\n",
    "    mvt_contained = mvt_contained1 + mvt_contained2 + mvt_contained3\n",
    "    if len(mvt_contained) > 0: # remove all not MVT1\n",
    "        mvt_contained = np.array(mvt_contained)\n",
    "        for mvt in mvt_contained:\n",
    "            if 'one' not in mvt.lower() and '1' not in mvt.lower():\n",
    "            \n",
    "                os.remove(mvt)\n",
    "                mvt_files.remove(mvt)\n",
    "                "
   ]
  },
  {
   "cell_type": "markdown",
   "metadata": {},
   "source": [
    "### Remove empty folders and the 'full' folders but with keeping of MIDI files"
   ]
  },
  {
   "cell_type": "code",
   "execution_count": 145,
   "metadata": {},
   "outputs": [],
   "source": [
    "folder_list = os.listdir(path)\n",
    "for single_folder in folder_list:\n",
    "    if os.path.isdir(path + single_folder):\n",
    "        longer_path = path + single_folder + '/*/*.mid'\n",
    "        list_midi = glob.glob(longer_path)\n",
    "        shorter_path = del_path = path + single_folder\n",
    "        if len(list_midi ) == 0: # delete folder\n",
    "\n",
    "            shutil.rmtree(shorter_path)\n",
    "\n",
    "        else: \n",
    "            path_to_midi = list_midi[0]\n",
    "            # move the midi to one folder before like command 'cd':\n",
    "            shutil.move(path_to_midi,shorter_path)\n",
    "            # remove the folder 'full':\n",
    "            shutil.rmtree(shorter_path+'/full/')"
   ]
  },
  {
   "cell_type": "markdown",
   "metadata": {},
   "source": [
    "### Open the explorer directories in which are several midi files. Wait until user gives input:"
   ]
  },
  {
   "cell_type": "code",
   "execution_count": 146,
   "metadata": {},
   "outputs": [
    {
     "data": {
      "text/plain": [
       "0"
      ]
     },
     "execution_count": 146,
     "metadata": {},
     "output_type": "execute_result"
    }
   ],
   "source": [
    "overall_path = path + '*/*/'\n",
    "all_filenames = glob.glob(overall_path + \"*.mid\")\n",
    "all_filenames2 = glob.glob(overall_path + \"*.MID\")\n",
    "all_midi = np.array(all_filenames + all_filenames2)\n",
    "len(all_midi)"
   ]
  },
  {
   "cell_type": "code",
   "execution_count": 147,
   "metadata": {},
   "outputs": [
    {
     "data": {
      "text/html": [
       "<div>\n",
       "<style scoped>\n",
       "    .dataframe tbody tr th:only-of-type {\n",
       "        vertical-align: middle;\n",
       "    }\n",
       "\n",
       "    .dataframe tbody tr th {\n",
       "        vertical-align: top;\n",
       "    }\n",
       "\n",
       "    .dataframe thead th {\n",
       "        text-align: right;\n",
       "    }\n",
       "</style>\n",
       "<table border=\"1\" class=\"dataframe\">\n",
       "  <thead>\n",
       "    <tr style=\"text-align: right;\">\n",
       "      <th></th>\n",
       "      <th>Code</th>\n",
       "      <th>MP3-Code</th>\n",
       "      <th>Artist</th>\n",
       "      <th>Title</th>\n",
       "    </tr>\n",
       "  </thead>\n",
       "  <tbody>\n",
       "    <tr>\n",
       "      <th>0</th>\n",
       "      <td>H001</td>\n",
       "      <td>H_Trailerpark_Schlech</td>\n",
       "      <td>Trailerpark</td>\n",
       "      <td>Schlechter Tag</td>\n",
       "    </tr>\n",
       "    <tr>\n",
       "      <th>1</th>\n",
       "      <td>H002</td>\n",
       "      <td>H_Desiigner_Panda</td>\n",
       "      <td>Desiigner</td>\n",
       "      <td>Panda</td>\n",
       "    </tr>\n",
       "    <tr>\n",
       "      <th>2</th>\n",
       "      <td>H003</td>\n",
       "      <td>H_NAS_DooRags</td>\n",
       "      <td>NAS</td>\n",
       "      <td>Doo Rags</td>\n",
       "    </tr>\n",
       "    <tr>\n",
       "      <th>3</th>\n",
       "      <td>H004</td>\n",
       "      <td>H_DMX_XGonGiv</td>\n",
       "      <td>DMX</td>\n",
       "      <td>X Gon' Give It To Ya</td>\n",
       "    </tr>\n",
       "    <tr>\n",
       "      <th>4</th>\n",
       "      <td>H005</td>\n",
       "      <td>H_Xatar_MeineGr</td>\n",
       "      <td>Xatar</td>\n",
       "      <td>Meine Große Liebe</td>\n",
       "    </tr>\n",
       "    <tr>\n",
       "      <th>...</th>\n",
       "      <td>...</td>\n",
       "      <td>...</td>\n",
       "      <td>...</td>\n",
       "      <td>...</td>\n",
       "    </tr>\n",
       "    <tr>\n",
       "      <th>365</th>\n",
       "      <td>P142</td>\n",
       "      <td>P_Oasis_DontLoo</td>\n",
       "      <td>Oasis</td>\n",
       "      <td>Don't Look Back In Anger</td>\n",
       "    </tr>\n",
       "    <tr>\n",
       "      <th>366</th>\n",
       "      <td>P143</td>\n",
       "      <td>P_DerJungemitderGitarre_HalloWo</td>\n",
       "      <td>Der Junge mit der Gitarre</td>\n",
       "      <td>Hallo Worum Gehts Ich Bin Dagegen</td>\n",
       "    </tr>\n",
       "    <tr>\n",
       "      <th>367</th>\n",
       "      <td>P144</td>\n",
       "      <td>P_ChrisBrown_Forever</td>\n",
       "      <td>Chris Brown</td>\n",
       "      <td>Forever</td>\n",
       "    </tr>\n",
       "    <tr>\n",
       "      <th>368</th>\n",
       "      <td>P145</td>\n",
       "      <td>P_RyanAdams_LuckyNo</td>\n",
       "      <td>NaN</td>\n",
       "      <td>Ryan Adams</td>\n",
       "    </tr>\n",
       "    <tr>\n",
       "      <th>369</th>\n",
       "      <td>P146</td>\n",
       "      <td>P_AmyWinehouse_BackToB</td>\n",
       "      <td>NaN</td>\n",
       "      <td>Amy Winehouse</td>\n",
       "    </tr>\n",
       "  </tbody>\n",
       "</table>\n",
       "<p>370 rows × 4 columns</p>\n",
       "</div>"
      ],
      "text/plain": [
       "     Code                         MP3-Code                     Artist  \\\n",
       "0    H001            H_Trailerpark_Schlech                Trailerpark   \n",
       "1    H002                H_Desiigner_Panda                  Desiigner   \n",
       "2    H003                    H_NAS_DooRags                        NAS   \n",
       "3    H004                    H_DMX_XGonGiv                        DMX   \n",
       "4    H005                  H_Xatar_MeineGr                      Xatar   \n",
       "..    ...                              ...                        ...   \n",
       "365  P142                  P_Oasis_DontLoo                      Oasis   \n",
       "366  P143  P_DerJungemitderGitarre_HalloWo  Der Junge mit der Gitarre   \n",
       "367  P144             P_ChrisBrown_Forever                Chris Brown   \n",
       "368  P145              P_RyanAdams_LuckyNo                        NaN   \n",
       "369  P146           P_AmyWinehouse_BackToB                        NaN   \n",
       "\n",
       "                                 Title  \n",
       "0                       Schlechter Tag  \n",
       "1                                Panda  \n",
       "2                             Doo Rags  \n",
       "3                 X Gon' Give It To Ya  \n",
       "4                    Meine Große Liebe  \n",
       "..                                 ...  \n",
       "365           Don't Look Back In Anger  \n",
       "366  Hallo Worum Gehts Ich Bin Dagegen  \n",
       "367                            Forever  \n",
       "368                         Ryan Adams  \n",
       "369                      Amy Winehouse  \n",
       "\n",
       "[370 rows x 4 columns]"
      ]
     },
     "execution_count": 147,
     "metadata": {},
     "output_type": "execute_result"
    }
   ],
   "source": [
    "# finding out the names of the single mp3 code samples:\n",
    "path_info = '../../stage0_provided_information/gems-emotion-tags-main/data/GEMS_songs_overview.csv'\n",
    "small = pd.read_csv(path_info, skiprows=1)\n",
    "small2 = small[['Code','MP3-Code','Artist','Title']]\n",
    "small3 = small2.dropna(how='all') # remove all rows only containing nan\n",
    "small3"
   ]
  },
  {
   "cell_type": "code",
   "execution_count": 148,
   "metadata": {},
   "outputs": [],
   "source": [
    "for single_midi in all_midi:\n",
    "           \n",
    "    midi_parts = single_midi.split('/')\n",
    "    before_path = midi_parts[0] + '/' + midi_parts[1] \n",
    "    before_path2 = before_path + '/' + midi_parts[2]\n",
    "    \n",
    "    number_ele = len(os.listdir(before_path2)) # count number of midi files for one sample\n",
    "    \n",
    "    if number_ele > 1: \n",
    "        # getting name sample:\n",
    "        mp3_code = midi_parts[1]\n",
    "        df_line = small3[small['MP3-Code']==str(mp3_code)]\n",
    "        if len(df_line) == 0:\n",
    "            df_line = small3[small['Code']==str(mp3_code)]\n",
    "        title = df_line['Title'].to_string().split(' ')[1:]\n",
    "        artist = df_line['Artist'].to_string().split(' ')[1:]\n",
    "        print(' '.join(artist), ' '.join(title))\n",
    "        \n",
    "        time.sleep(3)\n",
    "        \n",
    "        webbrowser.open('https://www.youtube.com')\n",
    "        time.sleep(15)\n",
    "        print()\n",
    "        webbrowser.open(before_path2)\n",
    "\n",
    "        \n",
    "        user_input = input('Next sample? [arbitrary answer for \"yes\"]')\n",
    "    \n",
    "        all_midi = [ele for ele in all_midi if not ele.startswith(before_path)]\n",
    "        \n",
    "    #else:\n",
    "     #   all_midi.remove(single_midi)"
   ]
  },
  {
   "cell_type": "markdown",
   "metadata": {},
   "source": [
    "### Give the folder names to the relating MIDI files and remove the folders"
   ]
  },
  {
   "cell_type": "code",
   "execution_count": 149,
   "metadata": {},
   "outputs": [],
   "source": [
    "for path_midi in glob.glob(path +'*/*'):\n",
    "    folder_mp3 = path_midi.split('/')[1]\n",
    "    first_part = path_midi.split('/')[0]\n",
    "    os.rename(path_midi, first_part + '/' + folder_mp3 + '.mid')\n",
    "    os.rmdir(first_part + '/' + folder_mp3)"
   ]
  },
  {
   "cell_type": "markdown",
   "metadata": {},
   "source": [
    "### Rename the folder in which the MIDI files are stored"
   ]
  },
  {
   "cell_type": "code",
   "execution_count": 152,
   "metadata": {},
   "outputs": [],
   "source": [
    "os.rename(path, 'GeneratedMIDI_webscraping')"
   ]
  },
  {
   "cell_type": "code",
   "execution_count": null,
   "metadata": {},
   "outputs": [],
   "source": []
  }
 ],
 "metadata": {
  "kernelspec": {
   "display_name": "Python 3",
   "language": "python",
   "name": "python3"
  },
  "language_info": {
   "codemirror_mode": {
    "name": "ipython",
    "version": 3
   },
   "file_extension": ".py",
   "mimetype": "text/x-python",
   "name": "python",
   "nbconvert_exporter": "python",
   "pygments_lexer": "ipython3",
   "version": "3.7.3"
  }
 },
 "nbformat": 4,
 "nbformat_minor": 2
}
