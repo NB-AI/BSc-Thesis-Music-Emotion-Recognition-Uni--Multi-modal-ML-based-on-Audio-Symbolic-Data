{
 "cells": [
  {
   "cell_type": "markdown",
   "metadata": {},
   "source": [
    "* This is an octave notebook!\n",
    "* The notebook generates MIDI files out of audio files with help of the converter of Pearce.\n",
    "* Remark: the Tae Pearce audio2midi converter is modified by me. Only then it works.\n",
    "* Remark: further change:\n",
    "withing the audio2midi_pearce_module I changed in micropick.m the line\n",
    "y=wavread(namew);<br>\n",
    "to<br>\n",
    "y=audioread(namew); % mine.<br>\n",
    "Through that the module is usable via Octave instead of Matlab!\n",
    "* Source: https://github.com/TeaPearce/Audio2Midi"
   ]
  },
  {
   "cell_type": "code",
   "execution_count": 1,
   "metadata": {},
   "outputs": [
    {
     "name": "stdout",
     "output_type": "stream",
     "text": [
      "ans = 7.1.0\r\n"
     ]
    }
   ],
   "source": [
    "% used octave version:\n",
    "version % 7.1.0"
   ]
  },
  {
   "cell_type": "code",
   "execution_count": 2,
   "metadata": {},
   "outputs": [],
   "source": [
    "mkdir('GeneratedMIDI_Pearce')"
   ]
  },
  {
   "cell_type": "code",
   "execution_count": 11,
   "metadata": {},
   "outputs": [],
   "source": [
    "% When the following error message, create the wanted directory.\n",
    "% XDG_RUNTIME_DIR points to non-existing path '/run/user/1000/snap.octave', please create it with 0700 permissions.\n",
    "% Qt: Session management error: Could not open network socket. "
   ]
  },
  {
   "cell_type": "code",
   "execution_count": 3,
   "metadata": {},
   "outputs": [],
   "source": [
    "! mkdir -p /run/user/1000/snap.octave"
   ]
  },
  {
   "cell_type": "code",
   "execution_count": 4,
   "metadata": {},
   "outputs": [],
   "source": [
    "! chmod 0700 /run/user/1000/snap.octave"
   ]
  },
  {
   "cell_type": "code",
   "execution_count": 6,
   "metadata": {
    "scrolled": true
   },
   "outputs": [
    {
     "name": "stdout",
     "output_type": "stream",
     "text": [
      "Qt: Session management error: Could not open network socket\n",
      "final_in = ../track_preparation/accompaniment/H_2Pac_AllEyez_accompaniment.wav\n",
      "final_out = GeneratedMIDI_Pearce/H_2Pac_AllEyez_accompaniment.mid\n",
      "Generation and storage done \n",
      "\n",
      "Qt: Session management error: Could not open network socket\n",
      "final_in = ../track_preparation/accompaniment/H_2Pac_KeepYaH_accompaniment.wav\n",
      "final_out = GeneratedMIDI_Pearce/H_2Pac_KeepYaH_accompaniment.mid\n",
      "Generation and storage done \n",
      "\n",
      "Qt: Session management error: Could not open network socket\n",
      "final_in = ../track_preparation/accompaniment/H_50Cent_CandySh_accompaniment.wav\n",
      "final_out = GeneratedMIDI_Pearce/H_50Cent_CandySh_accompaniment.mid\n",
      "Generation and storage done \n",
      "\n",
      "Qt: Session management error: Could not open network socket\n",
      "final_in = ../track_preparation/accompaniment/H_50Cent_InDaClu_accompaniment.wav\n",
      "final_out = GeneratedMIDI_Pearce/H_50Cent_InDaClu_accompaniment.mid\n",
      "Generation and storage done \n",
      "\n",
      "Qt: Session management error: Could not open network socket\n",
      "fatal: caught signal Segmentation fault -- stopping myself...\n",
      "Segmentation fault (core dumped)\n",
      "\n",
      "\n",
      "Segmentation fault (core dumped)\n",
      "\n"
     ]
    }
   ],
   "source": [
    "module_path = 'audio2midi_Pearce_module/Audio2Midi-master/micropick.m';\n",
    "path = '../track_preparation/accompaniment/';\n",
    "file_list = glob(strcat(path, '*.wav'));\n",
    "\n",
    "for i=1:numel(file_list);\n",
    "  [~, name] = fileparts (file_list{i}); % name=mp3code_accompaniment\n",
    "  path_name = strcat(path, name);\n",
    "  system([\"octave \", module_path, \" \", path_name, \" \",name]);\n",
    "end"
   ]
  },
  {
   "cell_type": "code",
   "execution_count": null,
   "metadata": {},
   "outputs": [],
   "source": []
  }
 ],
 "metadata": {
  "kernelspec": {
   "display_name": "Octave",
   "language": "octave",
   "name": "octave"
  },
  "language_info": {
   "file_extension": ".m",
   "help_links": [
    {
     "text": "GNU Octave",
     "url": "https://www.gnu.org/software/octave/support.html"
    },
    {
     "text": "Octave Kernel",
     "url": "https://github.com/Calysto/octave_kernel"
    },
    {
     "text": "MetaKernel Magics",
     "url": "https://metakernel.readthedocs.io/en/latest/source/README.html"
    }
   ],
   "mimetype": "text/x-octave",
   "name": "octave",
   "version": "7.1.0"
  }
 },
 "nbformat": 4,
 "nbformat_minor": 2
}
