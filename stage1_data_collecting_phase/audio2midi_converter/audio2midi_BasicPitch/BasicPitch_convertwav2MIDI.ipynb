{
 "cells": [
  {
   "cell_type": "markdown",
   "metadata": {},
   "source": [
    "This notebook generates MIDI files with help of Basic-Pitch.<br>\n",
    "Converter source: https://github.com/spotify/basic-pitch"
   ]
  },
  {
   "cell_type": "code",
   "execution_count": 2,
   "metadata": {},
   "outputs": [],
   "source": [
    "import os\n",
    "import glob"
   ]
  },
  {
   "cell_type": "code",
   "execution_count": 3,
   "metadata": {},
   "outputs": [
    {
     "name": "stdout",
     "output_type": "stream",
     "text": [
      "For \n",
      "os \n",
      "python version needs to fit \n",
      "-> original version 3.7.3 \n",
      "-> your version 3.7.3 (default, Mar 27 2019, 22:11:17) \n",
      "[GCC 7.3.0]\n",
      "\n",
      "\n",
      "For \n",
      "glob \n",
      "python version needs to fit \n",
      "-> original version 3.7.3 \n",
      "-> your version 3.7.3 (default, Mar 27 2019, 22:11:17) \n",
      "[GCC 7.3.0]\n",
      "\n",
      "\n",
      "Your version identical with original version \n",
      "-> sys \n",
      "-> 3.7.3\n",
      "\n",
      "\n"
     ]
    }
   ],
   "source": [
    "import sys\n",
    "sys.path.insert(0, '../../../stage-1/overall_used_tools')\n",
    "import requirements_check as rc\n",
    "\n",
    "rc.check(sys, [os, glob])\n"
   ]
  },
  {
   "cell_type": "code",
   "execution_count": 13,
   "metadata": {},
   "outputs": [],
   "source": [
    "storage_path = 'GeneratedMIDI_BasicPitch'\n",
    "os.makedirs(storage_path, exist_ok=True)"
   ]
  },
  {
   "cell_type": "code",
   "execution_count": null,
   "metadata": {},
   "outputs": [],
   "source": [
    "# Be aware to install the basic-pitch package to convert audios to MIDI files:\n",
    "#! pip install basic-pitch==0.2.6"
   ]
  },
  {
   "cell_type": "code",
   "execution_count": 14,
   "metadata": {},
   "outputs": [
    {
     "name": "stdout",
     "output_type": "stream",
     "text": [
      "\n",
      "✨✨✨✨✨✨✨✨✨\n",
      "✨ Basic Pitch  ✨\n",
      "✨✨✨✨✨✨✨✨✨\n",
      "\n",
      "Importing Tensorflow (this may take a few seconds)...\n",
      "\n",
      "Predicting MIDI for ../track_preparation/accompaniment/P_EllieGoulding_Burn_accompaniment.wav...\n",
      "\n",
      "\n",
      "  Creating midi...\n",
      "  💅 Saved to GeneratedMIDI_BasicPitch/P_EllieGoulding_Burn_accompaniment_basic_pitch.mid\n",
      "\n",
      "✨ Done ✨\n",
      "\n",
      "\u001b[0m\n",
      "✨✨✨✨✨✨✨✨✨\n",
      "✨ Basic Pitch  ✨\n",
      "✨✨✨✨✨✨✨✨✨\n",
      "\n",
      "Importing Tensorflow (this may take a few seconds)...\n",
      "\n",
      "Predicting MIDI for ../track_preparation/accompaniment/H_KRS-One_SoundOf_accompaniment.wav...\n",
      "\n",
      "\n",
      "  Creating midi...\n",
      "  💅 Saved to GeneratedMIDI_BasicPitch/H_KRS-One_SoundOf_accompaniment_basic_pitch.mid\n",
      "\n",
      "✨ Done ✨\n",
      "\n",
      "\u001b[0m\n",
      "✨✨✨✨✨✨✨✨✨\n",
      "✨ Basic Pitch  ✨\n",
      "✨✨✨✨✨✨✨✨✨\n",
      "\n",
      "Importing Tensorflow (this may take a few seconds)...\n",
      "\n",
      "Predicting MIDI for ../track_preparation/accompaniment/P_TameImpala_TheLess_accompaniment.wav...\n",
      "\n",
      "\n",
      "  Creating midi...\n",
      "  💅 Saved to GeneratedMIDI_BasicPitch/P_TameImpala_TheLess_accompaniment_basic_pitch.mid\n",
      "^C\n",
      "Traceback (most recent call last):\n",
      "  File \"/home/c/anaconda3/bin/basic-pitch\", line 8, in <module>\n",
      "    sys.exit(main())\n",
      "  File \"/home/c/anaconda3/lib/python3.7/site-packages/basic_pitch/predict.py\", line 149, in main\n",
      "    args.midi_tempo,\n",
      "KeyboardInterrupt\n",
      "\u001b[0m\n",
      "✨✨✨✨✨✨✨✨✨\n",
      "✨ Basic Pitch  ✨\n",
      "✨✨✨✨✨✨✨✨✨\n",
      "\n",
      "Importing Tensorflow (this may take a few seconds)...\n"
     ]
    },
    {
     "ename": "FileNotFoundError",
     "evalue": "[Errno 2] No such file or directory: 'GeneratedMIDI_BasicPitch/K_Beethoven_Mondsch_accompaniment_basic_pitch.mid' -> 'GeneratedMIDI_BasicPitch/K_Beethoven_Mondsch_accompaniment.mid'",
     "output_type": "error",
     "traceback": [
      "\u001b[0;31m---------------------------------------------------------------------------\u001b[0m",
      "\u001b[0;31mFileNotFoundError\u001b[0m                         Traceback (most recent call last)",
      "\u001b[0;32m/tmp/ipykernel_5506/2028359213.py\u001b[0m in \u001b[0;36m<module>\u001b[0;34m\u001b[0m\n\u001b[1;32m      6\u001b[0m     \u001b[0mgenerated_midi_name\u001b[0m \u001b[0;34m=\u001b[0m \u001b[0mstorage_path\u001b[0m \u001b[0;34m+\u001b[0m \u001b[0;34m'/'\u001b[0m \u001b[0;34m+\u001b[0m \u001b[0mname\u001b[0m \u001b[0;34m+\u001b[0m \u001b[0;34m'_basic_pitch.mid'\u001b[0m\u001b[0;34m\u001b[0m\u001b[0;34m\u001b[0m\u001b[0m\n\u001b[1;32m      7\u001b[0m     \u001b[0maim_name\u001b[0m \u001b[0;34m=\u001b[0m \u001b[0mstorage_path\u001b[0m \u001b[0;34m+\u001b[0m \u001b[0;34m'/'\u001b[0m \u001b[0;34m+\u001b[0m \u001b[0mname\u001b[0m \u001b[0;34m+\u001b[0m \u001b[0;34m'.mid'\u001b[0m\u001b[0;34m\u001b[0m\u001b[0;34m\u001b[0m\u001b[0m\n\u001b[0;32m----> 8\u001b[0;31m     \u001b[0mos\u001b[0m\u001b[0;34m.\u001b[0m\u001b[0mrename\u001b[0m\u001b[0;34m(\u001b[0m\u001b[0mgenerated_midi_name\u001b[0m\u001b[0;34m,\u001b[0m \u001b[0maim_name\u001b[0m\u001b[0;34m)\u001b[0m\u001b[0;34m\u001b[0m\u001b[0;34m\u001b[0m\u001b[0m\n\u001b[0m",
      "\u001b[0;31mFileNotFoundError\u001b[0m: [Errno 2] No such file or directory: 'GeneratedMIDI_BasicPitch/K_Beethoven_Mondsch_accompaniment_basic_pitch.mid' -> 'GeneratedMIDI_BasicPitch/K_Beethoven_Mondsch_accompaniment.mid'"
     ]
    }
   ],
   "source": [
    "for file in glob.glob('../track_preparation/accompaniment/*.wav'): # also working with mp3\n",
    "    # better results for accompaniment tracks (without singing voice)\n",
    "    ! basic-pitch '{storage_path}' '{file}'\n",
    "    \n",
    "    name = (file.split('/')[-1]).split('.')[0]\n",
    "    generated_midi_name = storage_path + '/' + name + '_basic_pitch.mid'\n",
    "    aim_name = storage_path + '/' + name + '.mid'\n",
    "    os.rename(generated_midi_name, aim_name)"
   ]
  },
  {
   "cell_type": "code",
   "execution_count": null,
   "metadata": {},
   "outputs": [],
   "source": []
  }
 ],
 "metadata": {
  "kernelspec": {
   "display_name": "Python 3",
   "language": "python",
   "name": "python3"
  },
  "language_info": {
   "codemirror_mode": {
    "name": "ipython",
    "version": 3
   },
   "file_extension": ".py",
   "mimetype": "text/x-python",
   "name": "python",
   "nbconvert_exporter": "python",
   "pygments_lexer": "ipython3",
   "version": "3.7.3"
  }
 },
 "nbformat": 4,
 "nbformat_minor": 2
}
