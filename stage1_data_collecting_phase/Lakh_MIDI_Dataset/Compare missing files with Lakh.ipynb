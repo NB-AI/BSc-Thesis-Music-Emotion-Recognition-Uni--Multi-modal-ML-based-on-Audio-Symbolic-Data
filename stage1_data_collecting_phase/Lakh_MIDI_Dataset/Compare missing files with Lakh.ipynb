{
 "cells": [
  {
   "cell_type": "markdown",
   "metadata": {},
   "source": [
    "The Lakh dataset provides lots of MIDI files. From the webscraping part of the thesis some titles are still missing. This notebook has a look whether the missing titles can be found in the Lakh dataset."
   ]
  },
  {
   "cell_type": "code",
   "execution_count": 8,
   "metadata": {},
   "outputs": [],
   "source": [
    "missing_tracks = []\n",
    "missing_artists = []\n",
    "\n",
    "with open('../webscraping/final_missing_titles', 'r') as f:\n",
    "    \n",
    "    content_list = f.readlines()\n",
    "    \n",
    "    for ind, sample in enumerate(content_list):\n",
    "        \n",
    "        if ind >= 2:\n",
    "            \n",
    "            token_list = sample.split(' - ')\n",
    "            artist = token_list[0]\n",
    "            title = (' '.join(token_list[1].split(' ')[:-1]))\n",
    "\n",
    "            missing_tracks.append(title.lower())\n",
    "            missing_artists.append(artist.lower())"
   ]
  },
  {
   "cell_type": "code",
   "execution_count": 9,
   "metadata": {},
   "outputs": [],
   "source": [
    "def midi_file_check(file, position_artist, position_title, missing_tracks=missing_tracks, missing_artists=missing_artists):\n",
    "    found_samples = []\n",
    "    with open(file, 'r') as u:\n",
    "        \n",
    "        content_list = u.readlines()\n",
    "\n",
    "        for sample in content_list:\n",
    "            token_list = sample.split('\\t')\n",
    "            artist = token_list[position_artist]\n",
    "\n",
    "            if artist.lower() in missing_tracks:\n",
    "                title = token_list[position_title]\n",
    "\n",
    "                if title.lower() in missing_tracks:\n",
    "                    print(sample)\n",
    "                    found_samples.append((artist, title))\n",
    "                    \n",
    "    return found_samples"
   ]
  },
  {
   "cell_type": "code",
   "execution_count": 10,
   "metadata": {},
   "outputs": [
    {
     "data": {
      "text/plain": [
       "[]"
      ]
     },
     "execution_count": 10,
     "metadata": {},
     "output_type": "execute_result"
    }
   ],
   "source": [
    "cal10k = midi_file_check('cal10k.txt', 2, 1)\n",
    "cal10k"
   ]
  },
  {
   "cell_type": "code",
   "execution_count": 11,
   "metadata": {},
   "outputs": [
    {
     "data": {
      "text/plain": [
       "[]"
      ]
     },
     "execution_count": 11,
     "metadata": {},
     "output_type": "execute_result"
    }
   ],
   "source": [
    "cal500 = midi_file_check('cal500.txt', 1, 2)\n",
    "cal500"
   ]
  },
  {
   "cell_type": "code",
   "execution_count": 12,
   "metadata": {},
   "outputs": [
    {
     "data": {
      "text/plain": [
       "[]"
      ]
     },
     "execution_count": 12,
     "metadata": {},
     "output_type": "execute_result"
    }
   ],
   "source": [
    "clean = midi_file_check('clean_midi.txt', 1, 2)\n",
    "clean"
   ]
  },
  {
   "cell_type": "code",
   "execution_count": 13,
   "metadata": {
    "scrolled": true
   },
   "outputs": [
    {
     "data": {
      "text/plain": [
       "[]"
      ]
     },
     "execution_count": 13,
     "metadata": {},
     "output_type": "execute_result"
    }
   ],
   "source": [
    "pop = midi_file_check('uspop2002.txt', 1, 3)\n",
    "pop"
   ]
  },
  {
   "cell_type": "markdown",
   "metadata": {},
   "source": [
    "--> None of the missing songs seem to be in the Lakh-MIDI Dataset."
   ]
  }
 ],
 "metadata": {
  "kernelspec": {
   "display_name": "Python 3",
   "language": "python",
   "name": "python3"
  },
  "language_info": {
   "codemirror_mode": {
    "name": "ipython",
    "version": 3
   },
   "file_extension": ".py",
   "mimetype": "text/x-python",
   "name": "python",
   "nbconvert_exporter": "python",
   "pygments_lexer": "ipython3",
   "version": "3.7.3"
  }
 },
 "nbformat": 4,
 "nbformat_minor": 2
}
